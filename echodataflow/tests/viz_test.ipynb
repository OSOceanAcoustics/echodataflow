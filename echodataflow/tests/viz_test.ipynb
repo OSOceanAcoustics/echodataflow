{
 "cells": [
  {
   "cell_type": "code",
   "execution_count": null,
   "metadata": {},
   "outputs": [],
   "source": [
    "from pathlib import Path\n",
    "from echodataflow import echodataflow_start, glob_url\n",
    "\n",
    "dataset_config = Path(\"/home/exouser/config/datastore.yaml\").resolve()\n",
    "pipeline_config = Path(\"/home/exouser/config/pipeline.yaml\").resolve()"
   ]
  },
  {
   "cell_type": "code",
   "execution_count": null,
   "metadata": {},
   "outputs": [],
   "source": [
    "options = {\"storage_options_override\": False}\n",
    "data  = echodataflow_start(dataset_config=dataset_config, pipeline_config=pipeline_config, options=options)"
   ]
  },
  {
   "cell_type": "code",
   "execution_count": null,
   "metadata": {},
   "outputs": [],
   "source": [
    "import xarray as xr\n",
    "\n",
    "z = xr.open_zarr('/home/exouser/echodataflow/code/echodataflow/echodataflow-output/echoshader_flow/shimada/eshader.zarr')\n",
    "z"
   ]
  },
  {
   "cell_type": "code",
   "execution_count": null,
   "metadata": {},
   "outputs": [],
   "source": []
  }
 ],
 "metadata": {
  "kernelspec": {
   "display_name": "echodataflowv2",
   "language": "python",
   "name": "python3"
  },
  "language_info": {
   "codemirror_mode": {
    "name": "ipython",
    "version": 3
   },
   "file_extension": ".py",
   "mimetype": "text/x-python",
   "name": "python",
   "nbconvert_exporter": "python",
   "pygments_lexer": "ipython3",
   "version": "3.10.12"
  }
 },
 "nbformat": 4,
 "nbformat_minor": 2
}
