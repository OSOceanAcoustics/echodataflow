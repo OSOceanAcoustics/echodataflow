{
 "cells": [
  {
   "cell_type": "code",
   "execution_count": 1,
   "metadata": {},
   "outputs": [
    {
     "name": "stderr",
     "output_type": "stream",
     "text": [
      "c:\\Users\\soham\\anaconda3\\envs\\echodataflow_redesign\\lib\\site-packages\\pydantic\\json_schema.py:2191: PydanticJsonSchemaWarning: Default value defaultdict(<class 'echodataflow.models.run.FileDetails'>, {}) is not JSON serializable; excluding default from JSON schema [non-serializable-default]\n",
      "  warnings.warn(message, PydanticJsonSchemaWarning)\n"
     ]
    },
    {
     "name": "stdout",
     "output_type": "stream",
     "text": [
      "Successfully deployed service: service_raw_to_Sv with deployment name: cae76655-9784-482a-8205-9df0c8c5ec1a\n",
      "Successfully deployed service: service_produce_mvbs with deployment name: cfc64a9e-aa22-46bc-902a-5269f678e7f9\n",
      "Successfully deployed service: service_prediction_to_nasc with deployment name: a6d605c4-2ee6-4183-9d79-436ae6bd2bd4\n"
     ]
    }
   ],
   "source": [
    "from echodataflow.deployment.deployment_engine import deploy_echodataflow\n",
    "\n",
    "config_file = 'C:/Users/soham/Desktop/Soham/Projects/OSO/temp/echodataflow/echodataflow/deployment/deployment_demo.yaml'\n",
    "d = await deploy_echodataflow(deployment_yaml=config_file)"
   ]
  },
  {
   "cell_type": "code",
   "execution_count": null,
   "metadata": {},
   "outputs": [],
   "source": []
  }
 ],
 "metadata": {
  "kernelspec": {
   "display_name": "echodataflow_redesign",
   "language": "python",
   "name": "python3"
  },
  "language_info": {
   "codemirror_mode": {
    "name": "ipython",
    "version": 3
   },
   "file_extension": ".py",
   "mimetype": "text/x-python",
   "name": "python",
   "nbconvert_exporter": "python",
   "pygments_lexer": "ipython3",
   "version": "3.10.15"
  }
 },
 "nbformat": 4,
 "nbformat_minor": 2
}
