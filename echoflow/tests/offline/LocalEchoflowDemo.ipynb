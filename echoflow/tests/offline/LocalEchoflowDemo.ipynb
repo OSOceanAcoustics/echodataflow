{
 "cells": [
  {
   "cell_type": "code",
   "execution_count": 1,
   "metadata": {},
   "outputs": [],
   "source": [
    "from pathlib import Path\n",
    "from echoflow import echoflow_start, glob_url\n",
    "from urllib.parse import urlparse\n",
    "import fsspec\n",
    "from typing import Dict, Optional, Any, Union, Tuple, List\n",
    "\n",
    "dataset_config = Path(\"./datastore.yaml\").resolve()\n",
    "pipeline_config = Path(\"./pipeline.yaml\").resolve()"
   ]
  },
  {
   "cell_type": "code",
   "execution_count": 2,
   "metadata": {},
   "outputs": [],
   "source": [
    "all_files = glob_url(\"s3://ncei-wcsd-archive/data/raw/Bell_M._Shimada/SH1707/EK60/*.raw\", {'anon':True})"
   ]
  },
  {
   "cell_type": "code",
   "execution_count": 3,
   "metadata": {},
   "outputs": [],
   "source": [
    "files = []\n",
    "for file in all_files:\n",
    "    f = file.split(\".r\")[0]\n",
    "    files.append(f.split(\"/\")[-1])"
   ]
  },
  {
   "cell_type": "code",
   "execution_count": 4,
   "metadata": {},
   "outputs": [],
   "source": [
    "transect = open('EK60_SH1707_Shimada.txt','w')\n",
    "i = 0\n",
    "for f in files:\n",
    "    if i == 100:\n",
    "        break\n",
    "    transect.write(f+\".raw\\n\")\n",
    "    i = i + 1\n",
    "transect.close()"
   ]
  },
  {
   "cell_type": "code",
   "execution_count": 5,
   "metadata": {},
   "outputs": [
    {
     "name": "stdout",
     "output_type": "stream",
     "text": [
      "<Client: 'tcp://127.0.0.1:43583' processes=5 threads=5, memory=15.61 GiB>\n",
      "--------------------------------------------------\n",
      "\n",
      "Executing stage :  name='echoflow_open_raw' module='echoflow.stages.subflows.open_raw' external_params=None options={'save_raw_file': True, 'use_raw_offline': True, 'use_offline': True} prefect_config=None\n",
      "[Errno 111] Connection refused\n",
      "\n",
      "Completed stage name='echoflow_open_raw' module='echoflow.stages.subflows.open_raw' external_params=None options={'save_raw_file': True, 'use_raw_offline': True, 'use_offline': True} prefect_config=None\n",
      "--------------------------------------------------\n",
      "<Client: 'tcp://127.0.0.1:43583' processes=5 threads=5, memory=15.61 GiB>\n",
      "--------------------------------------------------\n",
      "\n",
      "Executing stage :  name='echoflow_compute_TS' module='echoflow.stages.subflows.compute_TS' external_params=None options={'use_offline': True} prefect_config=None\n",
      "[Errno 111] Connection refused\n",
      "Cleaning :  /home/ubuntu/echoflow/echoflow/echoflow/tests/offline/echoflow-output/echoflow_open_raw\n",
      "\n",
      "Completed stage name='echoflow_compute_TS' module='echoflow.stages.subflows.compute_TS' external_params=None options={'use_offline': True} prefect_config=None\n",
      "--------------------------------------------------\n",
      "Local Client has been closed\n"
     ]
    },
    {
     "name": "stderr",
     "output_type": "stream",
     "text": [
      "/tmp/ipykernel_103521/3922359326.py:2: RuntimeWarning: coroutine 'Block.load' was never awaited\n",
      "  data  = echoflow_start(dataset_config=dataset_config, pipeline_config=pipeline_config, options=options)\n",
      "RuntimeWarning: Enable tracemalloc to get the object allocation traceback\n"
     ]
    }
   ],
   "source": [
    "options = {\"storage_options_override\": False}\n",
    "data  = echoflow_start(dataset_config=dataset_config, pipeline_config=pipeline_config, options=options)"
   ]
  },
  {
   "cell_type": "code",
   "execution_count": null,
   "metadata": {},
   "outputs": [],
   "source": [
    "data[0][0]"
   ]
  },
  {
   "cell_type": "code",
   "execution_count": null,
   "metadata": {},
   "outputs": [],
   "source": []
  }
 ],
 "metadata": {
  "kernelspec": {
   "display_name": "Python 3 (ipykernel)",
   "language": "python",
   "name": "python3"
  },
  "language_info": {
   "codemirror_mode": {
    "name": "ipython",
    "version": 3
   },
   "file_extension": ".py",
   "mimetype": "text/x-python",
   "name": "python",
   "nbconvert_exporter": "python",
   "pygments_lexer": "ipython3",
   "version": "3.10.12"
  }
 },
 "nbformat": 4,
 "nbformat_minor": 4
}
