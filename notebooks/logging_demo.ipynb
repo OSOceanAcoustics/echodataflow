{
 "cells": [
  {
   "cell_type": "code",
   "execution_count": 1,
   "metadata": {},
   "outputs": [],
   "source": [
    "import yaml\n",
    "import logging\n",
    "from prefect import flow, task\n",
    "from typing import Union, Dict"
   ]
  },
  {
   "cell_type": "code",
   "execution_count": 2,
   "metadata": {},
   "outputs": [],
   "source": [
    "class Singleton_Echoflow:\n",
    "    _instance: \"Singleton_Echoflow\" = None\n",
    "    logger: logging.Logger = None\n",
    "\n",
    "    def __new__(\n",
    "        cls,\n",
    "        log_file: Union[Dict[str, str], str] = None,\n",
    "    ) -> \"Singleton_Echoflow\":\n",
    "        \n",
    "        if cls._instance is None:\n",
    "            cls._instance = super().__new__(cls)\n",
    "            if log_file is not None:\n",
    "                cls._instance.logger = cls._instance.logger_init(log_file)\n",
    "        return cls._instance\n",
    "\n",
    "    @classmethod\n",
    "    def get_instance(self) -> \"Singleton_Echoflow\":\n",
    "        return self._instance\n",
    "    \n",
    "    @classmethod\n",
    "    def get_logger(self) -> \"logging.Logger\":\n",
    "        return self.logger\n",
    "\n",
    "    def logger_init(self, log_file: Union[Dict[str, str], str]) -> None:\n",
    "        if type(log_file) == str:\n",
    "            with open(log_file, \"r\") as file:\n",
    "                logging_config_dict = yaml.safe_load(file.read())\n",
    "                logging.config.dictConfig(logging_config_dict)\n",
    "        else:\n",
    "            logging.config.dictConfig(log_file)\n",
    "        print(\"logging configured\")\n",
    "        return logging.getLogger(\"echoflow\")\n",
    "\n",
    "    def log(self, msg, level, extra):\n",
    "        self.logger.log(level=logging.DEBUG, msg=msg, extra=extra)\n",
    "        self.logger.log(level=logging.ERROR, msg=msg, extra=extra)\n",
    "        self.logger.log(level=logging.INFO, msg=msg, extra=extra)\n",
    "        self.logger.log(level=logging.WARNING, msg=msg, extra=extra)\n"
   ]
  },
  {
   "cell_type": "code",
   "execution_count": 3,
   "metadata": {},
   "outputs": [],
   "source": [
    "@flow(name=\"flow1\")\n",
    "def flow1():\n",
    "    print(Singleton_Echoflow(log_file='../echoflow/config/logging_config.yaml'))\n",
    "    print(\"logging done\")\n",
    "    flow2()\n",
    "\n",
    "@flow(name=\"flow2\")\n",
    "def flow2():\n",
    "    gea = Singleton_Echoflow.get_instance()\n",
    "    gea.log('Demo Message', level=\"DEBUG\", extra={\"mod_name\": \"loggingDemo\", \"func_name\": __name__})"
   ]
  },
  {
   "cell_type": "code",
   "execution_count": 4,
   "metadata": {},
   "outputs": [
    {
     "data": {
      "text/html": [
       "<pre style=\"white-space:pre;overflow-x:auto;line-height:normal;font-family:Menlo,'DejaVu Sans Mono',consolas,'Courier New',monospace\">14:20:02.661 | <span style=\"color: #008080; text-decoration-color: #008080\">INFO</span>    | prefect.engine - Created flow run<span style=\"color: #800080; text-decoration-color: #800080\"> 'aquamarine-muskox'</span> for flow<span style=\"color: #800080; text-decoration-color: #800080; font-weight: bold\"> 'flow1'</span>\n",
       "</pre>\n"
      ],
      "text/plain": [
       "14:20:02.661 | \u001b[36mINFO\u001b[0m    | prefect.engine - Created flow run\u001b[35m 'aquamarine-muskox'\u001b[0m for flow\u001b[1;35m 'flow1'\u001b[0m\n"
      ]
     },
     "metadata": {},
     "output_type": "display_data"
    },
    {
     "name": "stdout",
     "output_type": "stream",
     "text": [
      "logging configured\n",
      "<__main__.Singleton_Echoflow object at 0x7f850621fe50>\n",
      "logging done\n"
     ]
    },
    {
     "data": {
      "text/html": [
       "<pre style=\"white-space:pre;overflow-x:auto;line-height:normal;font-family:Menlo,'DejaVu Sans Mono',consolas,'Courier New',monospace\">14:20:03.007 | <span style=\"color: #008080; text-decoration-color: #008080\">INFO</span>    | Flow run<span style=\"color: #800080; text-decoration-color: #800080\"> 'aquamarine-muskox'</span> - Created subflow run<span style=\"color: #800080; text-decoration-color: #800080\"> 'amphibian-jellyfish'</span> for flow<span style=\"color: #800080; text-decoration-color: #800080; font-weight: bold\"> 'flow2'</span>\n",
       "</pre>\n"
      ],
      "text/plain": [
       "14:20:03.007 | \u001b[36mINFO\u001b[0m    | Flow run\u001b[35m 'aquamarine-muskox'\u001b[0m - Created subflow run\u001b[35m 'amphibian-jellyfish'\u001b[0m for flow\u001b[1;35m 'flow2'\u001b[0m\n"
      ]
     },
     "metadata": {},
     "output_type": "display_data"
    },
    {
     "name": "stderr",
     "output_type": "stream",
     "text": [
      "/Users/soham/anaconda3/envs/echoflow/lib/python3.10/site-packages/watchtower/__init__.py:429: WatchtowerWarning: Received message after logging system shutdown\n",
      "  warnings.warn(\"Received message after logging system shutdown\", WatchtowerWarning)\n"
     ]
    },
    {
     "data": {
      "text/html": [
       "<pre style=\"white-space:pre;overflow-x:auto;line-height:normal;font-family:Menlo,'DejaVu Sans Mono',consolas,'Courier New',monospace\">14:20:03.094 | <span style=\"color: #008080; text-decoration-color: #008080\">INFO</span>    | Flow run<span style=\"color: #800080; text-decoration-color: #800080\"> 'amphibian-jellyfish'</span> - Finished in state <span style=\"color: #008000; text-decoration-color: #008000\">Completed</span>()\n",
       "</pre>\n"
      ],
      "text/plain": [
       "14:20:03.094 | \u001b[36mINFO\u001b[0m    | Flow run\u001b[35m 'amphibian-jellyfish'\u001b[0m - Finished in state \u001b[32mCompleted\u001b[0m()\n"
      ]
     },
     "metadata": {},
     "output_type": "display_data"
    },
    {
     "data": {
      "text/html": [
       "<pre style=\"white-space:pre;overflow-x:auto;line-height:normal;font-family:Menlo,'DejaVu Sans Mono',consolas,'Courier New',monospace\">14:20:03.121 | <span style=\"color: #008080; text-decoration-color: #008080\">INFO</span>    | Flow run<span style=\"color: #800080; text-decoration-color: #800080\"> 'aquamarine-muskox'</span> - Finished in state <span style=\"color: #008000; text-decoration-color: #008000\">Completed</span>('All states completed.')\n",
       "</pre>\n"
      ],
      "text/plain": [
       "14:20:03.121 | \u001b[36mINFO\u001b[0m    | Flow run\u001b[35m 'aquamarine-muskox'\u001b[0m - Finished in state \u001b[32mCompleted\u001b[0m('All states completed.')\n"
      ]
     },
     "metadata": {},
     "output_type": "display_data"
    },
    {
     "data": {
      "text/plain": [
       "[Completed(message=None, type=COMPLETED, result=UnpersistedResult(type='unpersisted', artifact_type='result', artifact_description='Unpersisted result of type `NoneType`'))]"
      ]
     },
     "execution_count": 4,
     "metadata": {},
     "output_type": "execute_result"
    }
   ],
   "source": [
    "flow1()"
   ]
  },
  {
   "cell_type": "code",
   "execution_count": 5,
   "metadata": {},
   "outputs": [],
   "source": [
    "logging.getLogger(\"echoflow\").error(\"Demo Debug Message\", extra={\"mod_name\": \"loggingDemo\", \"func_name\": __name__})"
   ]
  },
  {
   "cell_type": "code",
   "execution_count": null,
   "metadata": {},
   "outputs": [],
   "source": []
  }
 ],
 "metadata": {
  "kernelspec": {
   "display_name": "echoflow",
   "language": "python",
   "name": "python3"
  },
  "language_info": {
   "codemirror_mode": {
    "name": "ipython",
    "version": 3
   },
   "file_extension": ".py",
   "mimetype": "text/x-python",
   "name": "python",
   "nbconvert_exporter": "python",
   "pygments_lexer": "ipython3",
   "version": "3.10.12"
  },
  "orig_nbformat": 4
 },
 "nbformat": 4,
 "nbformat_minor": 2
}
