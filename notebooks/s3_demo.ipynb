{
 "cells": [
  {
   "cell_type": "code",
   "execution_count": null,
   "metadata": {},
   "outputs": [],
   "source": [
    "import boto3\n",
    "import fsspec\n",
    "import s3fs\n",
    "from typing import Dict, Any, Tuple, Union\n",
    "from urllib.parse import urlparse\n",
    "\n",
    "import sys\n",
    "import os\n",
    "sys.path.append('/Users/Soham/Desktop/EchoWorkSpace/echoflow')\n",
    "pipeline_config = os.path.abspath(\"../echoflow/config/pipeline.yaml\")\n",
    "from echoflow.stages_v2.utils.file_utils import extract_fs\n",
    "from echoflow.stages_v2.utils.config_utils import glob_url"
   ]
  },
  {
   "cell_type": "code",
   "execution_count": null,
   "metadata": {},
   "outputs": [],
   "source": [
    "options = {\"key\": \"\", \"secret\":\"\"}\n",
    "url = \"s3://echoflow-workground/x0007_fileset.txt\"\n",
    "fs = extract_fs(url, dict(options))"
   ]
  },
  {
   "cell_type": "code",
   "execution_count": null,
   "metadata": {},
   "outputs": [],
   "source": [
    "ls_res = fs.ls(path=\"s3://echoflow-workground\")"
   ]
  },
  {
   "cell_type": "code",
   "execution_count": null,
   "metadata": {},
   "outputs": [],
   "source": [
    "ls_res"
   ]
  },
  {
   "cell_type": "code",
   "execution_count": null,
   "metadata": {},
   "outputs": [],
   "source": [
    "storage_options = {}\n",
    "path = \"s3://ncei-wcsd-archive/data/raw/Bell_M._Shimada/SH1707/EK60/*.raw\"\n",
    "parsed_path = urlparse(path)\n",
    "file_system = fsspec.filesystem(parsed_path.scheme, **storage_options)\n",
    "file_system.anon"
   ]
  },
  {
   "cell_type": "code",
   "execution_count": null,
   "metadata": {},
   "outputs": [],
   "source": [
    "file_system.ls(path=\"s3://ncei-wcsd-archive/data/raw/Bell_M._Shimada/SH1707/EK60/\")"
   ]
  },
  {
   "cell_type": "code",
   "execution_count": null,
   "metadata": {},
   "outputs": [],
   "source": [
    "def isFile(file_path: str):\n",
    "    fs = extract_fs(file_path)\n",
    "    if file_path.endswith(\".zarr\"):\n",
    "        return fs.isdir(file_path)\n",
    "    return fs.isfile(file_path)"
   ]
  },
  {
   "cell_type": "code",
   "execution_count": null,
   "metadata": {},
   "outputs": [],
   "source": [
    "folder_name = \"s3://echoflow-workground/combined_files\"\n",
    "file = \"echoflow-workground/combined_files/echoflow_open_raw/Summer2017-D20170627-T174838.raw\"\n",
    "fsmap = fsspec.get_mapper(folder_name)"
   ]
  },
  {
   "cell_type": "code",
   "execution_count": null,
   "metadata": {},
   "outputs": [],
   "source": [
    "urlpath = \"s3://ncei-wcsd-archive/data/raw/Bell_M._Shimada/SH1707/EK60/Summer2017-D20170627-T174838.raw\"\n",
    "file_system = extract_fs(urlpath)\n",
    "with file_system.open(urlpath, 'rb') as source_file:\n",
    "    with fsmap.fs.open(file, mode=\"wb\") as f:\n",
    "        f.write(source_file.read())\n",
    "        outp = f.full_name"
   ]
  },
  {
   "cell_type": "code",
   "execution_count": null,
   "metadata": {},
   "outputs": [],
   "source": [
    "newmapper = fsspec.get_mapper(fsmap.root+\"echoflow_open_raw/Summer2017-D20170627-T174838.raw\")"
   ]
  },
  {
   "cell_type": "code",
   "execution_count": null,
   "metadata": {},
   "outputs": [],
   "source": []
  },
  {
   "cell_type": "code",
   "execution_count": null,
   "metadata": {},
   "outputs": [],
   "source": [
    "import boto3\n",
    "\n",
    "# Create a Boto3 S3 client\n",
    "s3_client = boto3.client(\"s3\")\n",
    "\n",
    "# List all S3 buckets\n",
    "response = s3_client.list_buckets()\n",
    "\n",
    "# Print bucket names\n",
    "for bucket in response[\"Buckets\"]:\n",
    "    print(bucket[\"Name\"])\n"
   ]
  },
  {
   "cell_type": "code",
   "execution_count": null,
   "metadata": {},
   "outputs": [],
   "source": []
  }
 ],
 "metadata": {
  "kernelspec": {
   "display_name": "echoflow",
   "language": "python",
   "name": "python3"
  },
  "language_info": {
   "codemirror_mode": {
    "name": "ipython",
    "version": 3
   },
   "file_extension": ".py",
   "mimetype": "text/x-python",
   "name": "python",
   "nbconvert_exporter": "python",
   "pygments_lexer": "ipython3",
   "version": "3.10.12"
  },
  "orig_nbformat": 4
 },
 "nbformat": 4,
 "nbformat_minor": 2
}
