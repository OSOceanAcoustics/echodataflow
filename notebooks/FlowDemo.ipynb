{
 "cells": [
  {
   "cell_type": "code",
   "execution_count": 1,
   "metadata": {},
   "outputs": [],
   "source": [
    "import sys\n",
    "import os\n",
    "sys.path.append('/home/ubuntu/echodataflow/echodataflow')\n",
    "from echodataflow import echodataflow_start, StorageType, load_block\n",
    "\n",
    "dataset_config = os.path.abspath(\"../echodataflow/config/datastore.yaml\")\n",
    "pipeline_config = os.path.abspath(\"../echodataflow/config/pipeline.yaml\")\n",
    "logfile_config = os.path.abspath(\"../echodataflow/config/logging_config.yaml\")"
   ]
  },
  {
   "cell_type": "code",
   "execution_count": 2,
   "metadata": {},
   "outputs": [],
   "source": [
    "aws = load_block(name=\"echodataflow-aws-credentials\", type=StorageType.AWS)"
   ]
  },
  {
   "cell_type": "code",
   "execution_count": null,
   "metadata": {},
   "outputs": [
    {
     "name": "stdout",
     "output_type": "stream",
     "text": [
      "--------------------------------------------------\n",
      "\n",
      "Executing stage :  name='echodataflow_open_raw' module='echodataflow.stages.subflows.open_raw' external_params={'sonar_model': 'EK60', 'xml_path': 's3//'} options={'save_output': True, 'use_raw_offline': True, 'use_offline': True} prefect_config={'retries': 0}\n",
      "[Errno 111] Connection refused\n",
      "[Output(data=[{'out_path': 's3://echodataflow-workground/combined_files/echodataflow_open_raw/7/Summer2017-D20170627-T171516.zarr', 'transect': 7, 'file_name': 'Summer2017-D20170627-T171516.raw', 'error': False}, {'out_path': 's3://echodataflow-workground/combined_files/echodataflow_open_raw/7/Summer2017-D20170627-T174838.zarr', 'transect': 7, 'file_name': 'Summer2017-D20170627-T174838.raw', 'error': False}, {'out_path': 's3://echodataflow-workground/combined_files/echodataflow_open_raw/7/Summer2017-D20170627-T182247.zarr', 'transect': 7, 'file_name': 'Summer2017-D20170627-T182247.raw', 'error': False}, {'out_path': 's3://echodataflow-workground/combined_files/echodataflow_open_raw/7/Summer2017-D20170627-T185656.zarr', 'transect': 7, 'file_name': 'Summer2017-D20170627-T185656.raw', 'error': False}, {'out_path': 's3://echodataflow-workground/combined_files/echodataflow_open_raw/7/Summer2017-D20170627-T193105.zarr', 'transect': 7, 'file_name': 'Summer2017-D20170627-T193105.raw', 'error': False}, {'out_path': 's3://echodataflow-workground/combined_files/echodataflow_open_raw/7/Summer2017-D20170627-T200518.zarr', 'transect': 7, 'file_name': 'Summer2017-D20170627-T200518.raw', 'error': False}, {'out_path': 's3://echodataflow-workground/combined_files/echodataflow_open_raw/7/Summer2017-D20170627-T203931.zarr', 'transect': 7, 'file_name': 'Summer2017-D20170627-T203931.raw', 'error': False}, {'out_path': 's3://echodataflow-workground/combined_files/echodataflow_open_raw/7/Summer2017-D20170627-T211247.zarr', 'transect': 7, 'file_name': 'Summer2017-D20170627-T211247.raw', 'error': False}, {'out_path': 's3://echodataflow-workground/combined_files/echodataflow_open_raw/7/Summer2017-D20170627-T213837.zarr', 'transect': 7, 'file_name': 'Summer2017-D20170627-T213837.raw', 'error': False}, {'out_path': 's3://echodataflow-workground/combined_files/echodataflow_open_raw/7/Summer2017-D20170627-T220425.zarr', 'transect': 7, 'file_name': 'Summer2017-D20170627-T220425.raw', 'error': False}, {'out_path': 's3://echodataflow-workground/combined_files/echodataflow_open_raw/7/Summer2017-D20170627-T223013.zarr', 'transect': 7, 'file_name': 'Summer2017-D20170627-T223013.raw', 'error': False}, {'out_path': 's3://echodataflow-workground/combined_files/echodataflow_open_raw/7/Summer2017-D20170627-T225602.zarr', 'transect': 7, 'file_name': 'Summer2017-D20170627-T225602.raw', 'error': False}, {'out_path': 's3://echodataflow-workground/combined_files/echodataflow_open_raw/7/Summer2017-D20170627-T232152.zarr', 'transect': 7, 'file_name': 'Summer2017-D20170627-T232152.raw', 'error': False}, {'out_path': 's3://echodataflow-workground/combined_files/echodataflow_open_raw/7/Summer2017-D20170627-T234752.zarr', 'transect': 7, 'file_name': 'Summer2017-D20170627-T234752.raw', 'error': False}, {'out_path': 's3://echodataflow-workground/combined_files/echodataflow_open_raw/7/Summer2017-D20170628-T001354.zarr', 'transect': 7, 'file_name': 'Summer2017-D20170628-T001354.raw', 'error': False}, {'out_path': 's3://echodataflow-workground/combined_files/echodataflow_open_raw/7/Summer2017-D20170628-T003944.zarr', 'transect': 7, 'file_name': 'Summer2017-D20170628-T003944.raw', 'error': False}, {'out_path': 's3://echodataflow-workground/combined_files/echodataflow_open_raw/7/Summer2017-D20170628-T010526.zarr', 'transect': 7, 'file_name': 'Summer2017-D20170628-T010526.raw', 'error': False}, {'out_path': 's3://echodataflow-workground/combined_files/echodataflow_open_raw/7/Summer2017-D20170628-T013108.zarr', 'transect': 7, 'file_name': 'Summer2017-D20170628-T013108.raw', 'error': False}, {'out_path': 's3://echodataflow-workground/combined_files/echodataflow_open_raw/7/Summer2017-D20170628-T015659.zarr', 'transect': 7, 'file_name': 'Summer2017-D20170628-T015659.raw', 'error': False}, {'out_path': 's3://echodataflow-workground/combined_files/echodataflow_open_raw/7/Summer2017-D20170628-T022249.zarr', 'transect': 7, 'file_name': 'Summer2017-D20170628-T022249.raw', 'error': False}, {'out_path': 's3://echodataflow-workground/combined_files/echodataflow_open_raw/7/Summer2017-D20170628-T024842.zarr', 'transect': 7, 'file_name': 'Summer2017-D20170628-T024842.raw', 'error': False}, {'out_path': 's3://echodataflow-workground/combined_files/echodataflow_open_raw/7/Summer2017-D20170628-T031428.zarr', 'transect': 7, 'file_name': 'Summer2017-D20170628-T031428.raw', 'error': False}], passing_params={}), Output(data=[{'out_path': 's3://echodataflow-workground/combined_files/echodataflow_open_raw/10/Summer2017-D20170628-T184837.zarr', 'transect': 10, 'file_name': 'Summer2017-D20170628-T184837.raw', 'error': False}, {'out_path': 's3://echodataflow-workground/combined_files/echodataflow_open_raw/10/Summer2017-D20170628-T192246.zarr', 'transect': 10, 'file_name': 'Summer2017-D20170628-T192246.raw', 'error': False}, {'out_path': 's3://echodataflow-workground/combined_files/echodataflow_open_raw/10/Summer2017-D20170628-T195655.zarr', 'transect': 10, 'file_name': 'Summer2017-D20170628-T195655.raw', 'error': False}, {'out_path': 's3://echodataflow-workground/combined_files/echodataflow_open_raw/10/Summer2017-D20170628-T203107.zarr', 'transect': 10, 'file_name': 'Summer2017-D20170628-T203107.raw', 'error': False}, {'out_path': 's3://echodataflow-workground/combined_files/echodataflow_open_raw/10/Summer2017-D20170628-T210519.zarr', 'transect': 10, 'file_name': 'Summer2017-D20170628-T210519.raw', 'error': False}, {'out_path': 's3://echodataflow-workground/combined_files/echodataflow_open_raw/10/Summer2017-D20170628-T213928.zarr', 'transect': 10, 'file_name': 'Summer2017-D20170628-T213928.raw', 'error': False}, {'out_path': 's3://echodataflow-workground/combined_files/echodataflow_open_raw/10/Summer2017-D20170628-T221341.zarr', 'transect': 10, 'file_name': 'Summer2017-D20170628-T221341.raw', 'error': False}, {'out_path': 's3://echodataflow-workground/combined_files/echodataflow_open_raw/10/Summer2017-D20170628-T224409.zarr', 'transect': 10, 'file_name': 'Summer2017-D20170628-T224409.raw', 'error': False}, {'out_path': 's3://echodataflow-workground/combined_files/echodataflow_open_raw/10/Summer2017-D20170628-T230959.zarr', 'transect': 10, 'file_name': 'Summer2017-D20170628-T230959.raw', 'error': False}, {'out_path': 's3://echodataflow-workground/combined_files/echodataflow_open_raw/10/Summer2017-D20170628-T233549.zarr', 'transect': 10, 'file_name': 'Summer2017-D20170628-T233549.raw', 'error': False}, {'out_path': 's3://echodataflow-workground/combined_files/echodataflow_open_raw/10/Summer2017-D20170629-T000153.zarr', 'transect': 10, 'file_name': 'Summer2017-D20170629-T000153.raw', 'error': False}], passing_params={})]\n",
      "\n",
      "Completed stage name='echodataflow_open_raw' module='echodataflow.stages.subflows.open_raw' external_params={'sonar_model': 'EK60', 'xml_path': 's3//'} options={'save_output': True, 'use_raw_offline': True, 'use_offline': True} prefect_config={'retries': 0}\n",
      "--------------------------------------------------\n",
      "--------------------------------------------------\n",
      "\n",
      "Executing stage :  name='echodataflow_compute_TS' module='echodataflow.stages.subflows.compute_TS' external_params=None options={'use_offline': True} prefect_config=None\n",
      "[Errno 111] Connection refused\n"
     ]
    }
   ],
   "source": [
    "options = {\"storage_options_override\": False}\n",
    "data  = echodataflow_start(dataset_config=dataset_config, pipeline_config=pipeline_config, logging_config=logfile_config, storage_options=aws, options=options)"
   ]
  },
  {
   "cell_type": "code",
   "execution_count": null,
   "metadata": {},
   "outputs": [],
   "source": [
    "data"
   ]
  },
  {
   "cell_type": "code",
   "execution_count": null,
   "metadata": {},
   "outputs": [],
   "source": []
  }
 ],
 "metadata": {
  "kernelspec": {
   "display_name": "Python 3 (ipykernel)",
   "language": "python",
   "name": "python3"
  },
  "language_info": {
   "codemirror_mode": {
    "name": "ipython",
    "version": 3
   },
   "file_extension": ".py",
   "mimetype": "text/x-python",
   "name": "python",
   "nbconvert_exporter": "python",
   "pygments_lexer": "ipython3",
   "version": "3.10.12"
  }
 },
 "nbformat": 4,
 "nbformat_minor": 4
}
