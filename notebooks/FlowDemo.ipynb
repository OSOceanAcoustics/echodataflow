{
 "cells": [
  {
   "cell_type": "code",
   "execution_count": 1,
   "metadata": {},
   "outputs": [],
   "source": [
    "import sys\n",
    "import os\n",
    "sys.path.append('/Users/Soham/Desktop/EchoWorkSpace/echoflow')\n",
    "\n",
    "from echoflow.stages_v2.subflows.pipeline_trigger import pipeline_trigger"
   ]
  },
  {
   "cell_type": "code",
   "execution_count": null,
   "metadata": {},
   "outputs": [
    {
     "data": {
      "text/html": [
       "<pre style=\"white-space:pre;overflow-x:auto;line-height:normal;font-family:Menlo,'DejaVu Sans Mono',consolas,'Courier New',monospace\">18:47:47.991 | <span style=\"color: #008080; text-decoration-color: #008080\">INFO</span>    | prefect.engine - Created flow run<span style=\"color: #800080; text-decoration-color: #800080\"> 'platinum-wolverine'</span> for flow<span style=\"color: #800080; text-decoration-color: #800080; font-weight: bold\"> 'Pipeline-Trigger'</span>\n",
       "</pre>\n"
      ],
      "text/plain": [
       "18:47:47.991 | \u001b[36mINFO\u001b[0m    | prefect.engine - Created flow run\u001b[35m 'platinum-wolverine'\u001b[0m for flow\u001b[1;35m 'Pipeline-Trigger'\u001b[0m\n"
      ]
     },
     "metadata": {},
     "output_type": "display_data"
    },
    {
     "data": {
      "text/html": [
       "<pre style=\"white-space:pre;overflow-x:auto;line-height:normal;font-family:Menlo,'DejaVu Sans Mono',consolas,'Courier New',monospace\">18:47:48.112 | <span style=\"color: #008080; text-decoration-color: #008080\">INFO</span>    | Flow run<span style=\"color: #800080; text-decoration-color: #800080\"> 'platinum-wolverine'</span> - Created task run 'extract_config-0' for task 'extract_config'\n",
       "</pre>\n"
      ],
      "text/plain": [
       "18:47:48.112 | \u001b[36mINFO\u001b[0m    | Flow run\u001b[35m 'platinum-wolverine'\u001b[0m - Created task run 'extract_config-0' for task 'extract_config'\n"
      ]
     },
     "metadata": {},
     "output_type": "display_data"
    },
    {
     "data": {
      "text/html": [
       "<pre style=\"white-space:pre;overflow-x:auto;line-height:normal;font-family:Menlo,'DejaVu Sans Mono',consolas,'Courier New',monospace\">18:47:48.113 | <span style=\"color: #008080; text-decoration-color: #008080\">INFO</span>    | Flow run<span style=\"color: #800080; text-decoration-color: #800080\"> 'platinum-wolverine'</span> - Executing 'extract_config-0' immediately...\n",
       "</pre>\n"
      ],
      "text/plain": [
       "18:47:48.113 | \u001b[36mINFO\u001b[0m    | Flow run\u001b[35m 'platinum-wolverine'\u001b[0m - Executing 'extract_config-0' immediately...\n"
      ]
     },
     "metadata": {},
     "output_type": "display_data"
    },
    {
     "data": {
      "text/html": [
       "<pre style=\"white-space:pre;overflow-x:auto;line-height:normal;font-family:Menlo,'DejaVu Sans Mono',consolas,'Courier New',monospace\">18:47:48.194 | <span style=\"color: #008080; text-decoration-color: #008080\">INFO</span>    | Task run 'extract_config-0' - Finished in state <span style=\"color: #008000; text-decoration-color: #008000\">Completed</span>()\n",
       "</pre>\n"
      ],
      "text/plain": [
       "18:47:48.194 | \u001b[36mINFO\u001b[0m    | Task run 'extract_config-0' - Finished in state \u001b[32mCompleted\u001b[0m()\n"
      ]
     },
     "metadata": {},
     "output_type": "display_data"
    },
    {
     "data": {
      "text/html": [
       "<pre style=\"white-space:pre;overflow-x:auto;line-height:normal;font-family:Menlo,'DejaVu Sans Mono',consolas,'Courier New',monospace\">18:47:48.213 | <span style=\"color: #008080; text-decoration-color: #008080\">INFO</span>    | Flow run<span style=\"color: #800080; text-decoration-color: #800080\"> 'platinum-wolverine'</span> - Created task run 'extract_config-1' for task 'extract_config'\n",
       "</pre>\n"
      ],
      "text/plain": [
       "18:47:48.213 | \u001b[36mINFO\u001b[0m    | Flow run\u001b[35m 'platinum-wolverine'\u001b[0m - Created task run 'extract_config-1' for task 'extract_config'\n"
      ]
     },
     "metadata": {},
     "output_type": "display_data"
    },
    {
     "data": {
      "text/html": [
       "<pre style=\"white-space:pre;overflow-x:auto;line-height:normal;font-family:Menlo,'DejaVu Sans Mono',consolas,'Courier New',monospace\">18:47:48.215 | <span style=\"color: #008080; text-decoration-color: #008080\">INFO</span>    | Flow run<span style=\"color: #800080; text-decoration-color: #800080\"> 'platinum-wolverine'</span> - Executing 'extract_config-1' immediately...\n",
       "</pre>\n"
      ],
      "text/plain": [
       "18:47:48.215 | \u001b[36mINFO\u001b[0m    | Flow run\u001b[35m 'platinum-wolverine'\u001b[0m - Executing 'extract_config-1' immediately...\n"
      ]
     },
     "metadata": {},
     "output_type": "display_data"
    },
    {
     "data": {
      "text/html": [
       "<pre style=\"white-space:pre;overflow-x:auto;line-height:normal;font-family:Menlo,'DejaVu Sans Mono',consolas,'Courier New',monospace\">18:47:48.291 | <span style=\"color: #008080; text-decoration-color: #008080\">INFO</span>    | Task run 'extract_config-1' - Finished in state <span style=\"color: #008000; text-decoration-color: #008000\">Completed</span>()\n",
       "</pre>\n"
      ],
      "text/plain": [
       "18:47:48.291 | \u001b[36mINFO\u001b[0m    | Task run 'extract_config-1' - Finished in state \u001b[32mCompleted\u001b[0m()\n"
      ]
     },
     "metadata": {},
     "output_type": "display_data"
    },
    {
     "data": {
      "text/html": [
       "<pre style=\"white-space:pre;overflow-x:auto;line-height:normal;font-family:Menlo,'DejaVu Sans Mono',consolas,'Courier New',monospace\">18:47:48.313 | <span style=\"color: #008080; text-decoration-color: #008080\">INFO</span>    | Flow run<span style=\"color: #800080; text-decoration-color: #800080\"> 'platinum-wolverine'</span> - Created task run 'check_config-0' for task 'check_config'\n",
       "</pre>\n"
      ],
      "text/plain": [
       "18:47:48.313 | \u001b[36mINFO\u001b[0m    | Flow run\u001b[35m 'platinum-wolverine'\u001b[0m - Created task run 'check_config-0' for task 'check_config'\n"
      ]
     },
     "metadata": {},
     "output_type": "display_data"
    },
    {
     "data": {
      "text/html": [
       "<pre style=\"white-space:pre;overflow-x:auto;line-height:normal;font-family:Menlo,'DejaVu Sans Mono',consolas,'Courier New',monospace\">18:47:48.314 | <span style=\"color: #008080; text-decoration-color: #008080\">INFO</span>    | Flow run<span style=\"color: #800080; text-decoration-color: #800080\"> 'platinum-wolverine'</span> - Executing 'check_config-0' immediately...\n",
       "</pre>\n"
      ],
      "text/plain": [
       "18:47:48.314 | \u001b[36mINFO\u001b[0m    | Flow run\u001b[35m 'platinum-wolverine'\u001b[0m - Executing 'check_config-0' immediately...\n"
      ]
     },
     "metadata": {},
     "output_type": "display_data"
    },
    {
     "data": {
      "text/html": [
       "<pre style=\"white-space:pre;overflow-x:auto;line-height:normal;font-family:Menlo,'DejaVu Sans Mono',consolas,'Courier New',monospace\">18:47:48.452 | <span style=\"color: #008080; text-decoration-color: #008080\">INFO</span>    | Task run 'check_config-0' - Finished in state <span style=\"color: #008000; text-decoration-color: #008000\">Completed</span>()\n",
       "</pre>\n"
      ],
      "text/plain": [
       "18:47:48.452 | \u001b[36mINFO\u001b[0m    | Task run 'check_config-0' - Finished in state \u001b[32mCompleted\u001b[0m()\n"
      ]
     },
     "metadata": {},
     "output_type": "display_data"
    },
    {
     "data": {
      "text/html": [
       "<pre style=\"white-space:pre;overflow-x:auto;line-height:normal;font-family:Menlo,'DejaVu Sans Mono',consolas,'Courier New',monospace\">18:47:48.522 | <span style=\"color: #008080; text-decoration-color: #008080\">INFO</span>    | Flow run<span style=\"color: #800080; text-decoration-color: #800080\"> 'platinum-wolverine'</span> - Created subflow run<span style=\"color: #800080; text-decoration-color: #800080\"> 'opal-avocet'</span> for flow<span style=\"color: #800080; text-decoration-color: #800080; font-weight: bold\"> 'Main-Flow'</span>\n",
       "</pre>\n"
      ],
      "text/plain": [
       "18:47:48.522 | \u001b[36mINFO\u001b[0m    | Flow run\u001b[35m 'platinum-wolverine'\u001b[0m - Created subflow run\u001b[35m 'opal-avocet'\u001b[0m for flow\u001b[1;35m 'Main-Flow'\u001b[0m\n"
      ]
     },
     "metadata": {},
     "output_type": "display_data"
    },
    {
     "data": {
      "text/html": [
       "<pre style=\"white-space:pre;overflow-x:auto;line-height:normal;font-family:Menlo,'DejaVu Sans Mono',consolas,'Courier New',monospace\">18:47:48.580 | <span style=\"color: #008080; text-decoration-color: #008080\">INFO</span>    | Flow run<span style=\"color: #800080; text-decoration-color: #800080\"> 'opal-avocet'</span> - Created task run 'glob_all_files-0' for task 'glob_all_files'\n",
       "</pre>\n"
      ],
      "text/plain": [
       "18:47:48.580 | \u001b[36mINFO\u001b[0m    | Flow run\u001b[35m 'opal-avocet'\u001b[0m - Created task run 'glob_all_files-0' for task 'glob_all_files'\n"
      ]
     },
     "metadata": {},
     "output_type": "display_data"
    },
    {
     "data": {
      "text/html": [
       "<pre style=\"white-space:pre;overflow-x:auto;line-height:normal;font-family:Menlo,'DejaVu Sans Mono',consolas,'Courier New',monospace\">18:47:48.581 | <span style=\"color: #008080; text-decoration-color: #008080\">INFO</span>    | Flow run<span style=\"color: #800080; text-decoration-color: #800080\"> 'opal-avocet'</span> - Executing 'glob_all_files-0' immediately...\n",
       "</pre>\n"
      ],
      "text/plain": [
       "18:47:48.581 | \u001b[36mINFO\u001b[0m    | Flow run\u001b[35m 'opal-avocet'\u001b[0m - Executing 'glob_all_files-0' immediately...\n"
      ]
     },
     "metadata": {},
     "output_type": "display_data"
    },
    {
     "data": {
      "text/html": [
       "<pre style=\"white-space:pre;overflow-x:auto;line-height:normal;font-family:Menlo,'DejaVu Sans Mono',consolas,'Courier New',monospace\">18:47:51.952 | <span style=\"color: #008080; text-decoration-color: #008080\">INFO</span>    | Task run 'glob_all_files-0' - Finished in state <span style=\"color: #008000; text-decoration-color: #008000\">Completed</span>()\n",
       "</pre>\n"
      ],
      "text/plain": [
       "18:47:51.952 | \u001b[36mINFO\u001b[0m    | Task run 'glob_all_files-0' - Finished in state \u001b[32mCompleted\u001b[0m()\n"
      ]
     },
     "metadata": {},
     "output_type": "display_data"
    },
    {
     "data": {
      "text/html": [
       "<pre style=\"white-space:pre;overflow-x:auto;line-height:normal;font-family:Menlo,'DejaVu Sans Mono',consolas,'Courier New',monospace\">18:47:52.111 | <span style=\"color: #008080; text-decoration-color: #008080\">INFO</span>    | Flow run<span style=\"color: #800080; text-decoration-color: #800080\"> 'opal-avocet'</span> - Created task run 'parse_raw_paths-0' for task 'parse_raw_paths'\n",
       "</pre>\n"
      ],
      "text/plain": [
       "18:47:52.111 | \u001b[36mINFO\u001b[0m    | Flow run\u001b[35m 'opal-avocet'\u001b[0m - Created task run 'parse_raw_paths-0' for task 'parse_raw_paths'\n"
      ]
     },
     "metadata": {},
     "output_type": "display_data"
    },
    {
     "data": {
      "text/html": [
       "<pre style=\"white-space:pre;overflow-x:auto;line-height:normal;font-family:Menlo,'DejaVu Sans Mono',consolas,'Courier New',monospace\">18:47:52.112 | <span style=\"color: #008080; text-decoration-color: #008080\">INFO</span>    | Flow run<span style=\"color: #800080; text-decoration-color: #800080\"> 'opal-avocet'</span> - Executing 'parse_raw_paths-0' immediately...\n",
       "</pre>\n"
      ],
      "text/plain": [
       "18:47:52.112 | \u001b[36mINFO\u001b[0m    | Flow run\u001b[35m 'opal-avocet'\u001b[0m - Executing 'parse_raw_paths-0' immediately...\n"
      ]
     },
     "metadata": {},
     "output_type": "display_data"
    },
    {
     "data": {
      "text/html": [
       "<pre style=\"white-space:pre;overflow-x:auto;line-height:normal;font-family:Menlo,'DejaVu Sans Mono',consolas,'Courier New',monospace\">18:47:52.223 | <span style=\"color: #008080; text-decoration-color: #008080\">INFO</span>    | Task run 'parse_raw_paths-0' - Finished in state <span style=\"color: #008000; text-decoration-color: #008000\">Completed</span>()\n",
       "</pre>\n"
      ],
      "text/plain": [
       "18:47:52.223 | \u001b[36mINFO\u001b[0m    | Task run 'parse_raw_paths-0' - Finished in state \u001b[32mCompleted\u001b[0m()\n"
      ]
     },
     "metadata": {},
     "output_type": "display_data"
    },
    {
     "data": {
      "text/html": [
       "<pre style=\"white-space:pre;overflow-x:auto;line-height:normal;font-family:Menlo,'DejaVu Sans Mono',consolas,'Courier New',monospace\">18:47:52.244 | <span style=\"color: #008080; text-decoration-color: #008080\">INFO</span>    | Flow run<span style=\"color: #800080; text-decoration-color: #800080\"> 'opal-avocet'</span> - Created task run 'club_raw_files-0' for task 'club_raw_files'\n",
       "</pre>\n"
      ],
      "text/plain": [
       "18:47:52.244 | \u001b[36mINFO\u001b[0m    | Flow run\u001b[35m 'opal-avocet'\u001b[0m - Created task run 'club_raw_files-0' for task 'club_raw_files'\n"
      ]
     },
     "metadata": {},
     "output_type": "display_data"
    },
    {
     "data": {
      "text/html": [
       "<pre style=\"white-space:pre;overflow-x:auto;line-height:normal;font-family:Menlo,'DejaVu Sans Mono',consolas,'Courier New',monospace\">18:47:52.245 | <span style=\"color: #008080; text-decoration-color: #008080\">INFO</span>    | Flow run<span style=\"color: #800080; text-decoration-color: #800080\"> 'opal-avocet'</span> - Executing 'club_raw_files-0' immediately...\n",
       "</pre>\n"
      ],
      "text/plain": [
       "18:47:52.245 | \u001b[36mINFO\u001b[0m    | Flow run\u001b[35m 'opal-avocet'\u001b[0m - Executing 'club_raw_files-0' immediately...\n"
      ]
     },
     "metadata": {},
     "output_type": "display_data"
    },
    {
     "data": {
      "text/html": [
       "<pre style=\"white-space:pre;overflow-x:auto;line-height:normal;font-family:Menlo,'DejaVu Sans Mono',consolas,'Courier New',monospace\">18:47:52.316 | <span style=\"color: #008080; text-decoration-color: #008080\">INFO</span>    | Task run 'club_raw_files-0' - Finished in state <span style=\"color: #008000; text-decoration-color: #008000\">Completed</span>()\n",
       "</pre>\n"
      ],
      "text/plain": [
       "18:47:52.316 | \u001b[36mINFO\u001b[0m    | Task run 'club_raw_files-0' - Finished in state \u001b[32mCompleted\u001b[0m()\n"
      ]
     },
     "metadata": {},
     "output_type": "display_data"
    },
    {
     "name": "stdout",
     "output_type": "stream",
     "text": [
      "Executing stage :  name='open_raw' module='echoflow.stages_v2.subflows.open_raw' external_params={'sonar_model': 'EK60', 'xml_path': 's3//'} options={'save_output': True, 'use_offline': True, 'out_path': './temp_files', 'parallelize': True} prefect_config={'retries': 3, 'persist_result': True, 'result_storage': 'LocalFileSystem(basepath=\"my-results\")'}\n"
     ]
    },
    {
     "name": "stderr",
     "output_type": "stream",
     "text": [
      "2023-07-13 18:47:54,754 - distributed.diskutils - INFO - Found stale lock file and directory '/var/folders/1c/c2gm4rw56831d9cfkdf10y7h0000gn/T/dask-worker-space/worker-9w6ynqi3', purging\n",
      "2023-07-13 18:47:54,754 - distributed.diskutils - INFO - Found stale lock file and directory '/var/folders/1c/c2gm4rw56831d9cfkdf10y7h0000gn/T/dask-worker-space/worker-gveq1i80', purging\n",
      "2023-07-13 18:47:54,755 - distributed.diskutils - INFO - Found stale lock file and directory '/var/folders/1c/c2gm4rw56831d9cfkdf10y7h0000gn/T/dask-worker-space/worker-ovtk2dou', purging\n",
      "2023-07-13 18:47:54,756 - distributed.diskutils - INFO - Found stale lock file and directory '/var/folders/1c/c2gm4rw56831d9cfkdf10y7h0000gn/T/dask-worker-space/worker-64svzsok', purging\n"
     ]
    },
    {
     "name": "stdout",
     "output_type": "stream",
     "text": [
      "Completed stage name='open_raw' module='echoflow.stages_v2.subflows.open_raw' external_params={'sonar_model': 'EK60', 'xml_path': 's3//'} options={'save_output': True, 'use_offline': True, 'out_path': './temp_files', 'parallelize': True} prefect_config={'retries': 3, 'persist_result': True, 'result_storage': 'LocalFileSystem(basepath=\"my-results\")'}\n"
     ]
    },
    {
     "name": "stderr",
     "output_type": "stream",
     "text": [
      "2023-07-14 09:20:45,977 - distributed.worker - ERROR - Scheduler was unaware of this worker 'tcp://127.0.0.1:63838'. Shutting down.\n",
      "2023-07-14 09:20:45,978 - distributed.worker - ERROR - Scheduler was unaware of this worker 'tcp://127.0.0.1:63844'. Shutting down.\n",
      "\n",
      "Traceback (most recent call last):\n",
      "  File \"/Users/soham/anaconda3/envs/echoflow/lib/python3.11/site-packages/distributed/utils.py\", line 748, in wrapper\n",
      "    return await func(*args, **kwargs)\n",
      "           ^^^^^^^^^^^^^^^^^^^^^^^^^^^\n",
      "  File \"/Users/soham/anaconda3/envs/echoflow/lib/python3.11/site-packages/distributed/worker.py\", line 1519, in close\n",
      "    await self.finished()\n",
      "  File \"/Users/soham/anaconda3/envs/echoflow/lib/python3.11/site-packages/distributed/core.py\", line 501, in finished\n",
      "    await self._event_finished.wait()\n",
      "  File \"/Users/soham/anaconda3/envs/echoflow/lib/python3.11/asyncio/locks.py\", line 213, in wait\n",
      "    await fut\n",
      "asyncio.exceptions.CancelledError\n",
      "\n",
      "Traceback (most recent call last):\n",
      "  File \"/Users/soham/anaconda3/envs/echoflow/lib/python3.11/site-packages/distributed/utils.py\", line 748, in wrapper\n",
      "    return await func(*args, **kwargs)\n",
      "           ^^^^^^^^^^^^^^^^^^^^^^^^^^^\n",
      "  File \"/Users/soham/anaconda3/envs/echoflow/lib/python3.11/site-packages/distributed/worker.py\", line 1519, in close\n",
      "    await self.finished()\n",
      "  File \"/Users/soham/anaconda3/envs/echoflow/lib/python3.11/site-packages/distributed/core.py\", line 501, in finished\n",
      "    await self._event_finished.wait()\n",
      "  File \"/Users/soham/anaconda3/envs/echoflow/lib/python3.11/asyncio/locks.py\", line 213, in wait\n",
      "    await fut\n",
      "asyncio.exceptions.CancelledError\n",
      "2023-07-14 09:20:48,633 - distributed.nanny - ERROR - Worker process died unexpectedly\n",
      "2023-07-14 13:54:13,192 - tornado.application - ERROR - Exception in callback <bound method SystemMonitor.update of <SystemMonitor: cpu: 2 memory: 21 MB fds: 179>>\n",
      "Traceback (most recent call last):\n",
      "  File \"/Users/soham/anaconda3/envs/echoflow/lib/python3.11/site-packages/tornado/ioloop.py\", line 921, in _run\n",
      "    val = self.callback()\n",
      "          ^^^^^^^^^^^^^^^\n",
      "  File \"/Users/soham/anaconda3/envs/echoflow/lib/python3.11/site-packages/distributed/system_monitor.py\", line 156, in update\n",
      "    net_ioc = psutil.net_io_counters()\n",
      "              ^^^^^^^^^^^^^^^^^^^^^^^^\n",
      "  File \"/Users/soham/anaconda3/envs/echoflow/lib/python3.11/site-packages/psutil/__init__.py\", line 2119, in net_io_counters\n",
      "    rawdict = _psplatform.net_io_counters()\n",
      "              ^^^^^^^^^^^^^^^^^^^^^^^^^^^^^\n",
      "OSError: [Errno 12] Cannot allocate memory\n",
      "ERROR:tornado.application:Exception in callback <bound method SystemMonitor.update of <SystemMonitor: cpu: 2 memory: 21 MB fds: 179>>\n",
      "Traceback (most recent call last):\n",
      "  File \"/Users/soham/anaconda3/envs/echoflow/lib/python3.11/site-packages/tornado/ioloop.py\", line 921, in _run\n",
      "    val = self.callback()\n",
      "          ^^^^^^^^^^^^^^^\n",
      "  File \"/Users/soham/anaconda3/envs/echoflow/lib/python3.11/site-packages/distributed/system_monitor.py\", line 156, in update\n",
      "    net_ioc = psutil.net_io_counters()\n",
      "              ^^^^^^^^^^^^^^^^^^^^^^^^\n",
      "  File \"/Users/soham/anaconda3/envs/echoflow/lib/python3.11/site-packages/psutil/__init__.py\", line 2119, in net_io_counters\n",
      "    rawdict = _psplatform.net_io_counters()\n",
      "              ^^^^^^^^^^^^^^^^^^^^^^^^^^^^^\n",
      "OSError: [Errno 12] Cannot allocate memory\n"
     ]
    },
    {
     "data": {
      "text/html": [
       "<pre style=\"white-space:pre;overflow-x:auto;line-height:normal;font-family:Menlo,'DejaVu Sans Mono',consolas,'Courier New',monospace\">13:54:13.192 | <span style=\"color: #d70000; text-decoration-color: #d70000\">ERROR</span>   | tornado.application - Exception in callback &lt;bound method SystemMonitor.update of &lt;SystemMonitor: cpu: 2 memory: 21 MB fds: 179&gt;&gt;\n",
       "Traceback (most recent call last):\n",
       "  File \"/Users/soham/anaconda3/envs/echoflow/lib/python3.11/site-packages/tornado/ioloop.py\", line 921, in _run\n",
       "    val = self.callback()\n",
       "          ^^^^^^^^^^^^^^^\n",
       "  File \"/Users/soham/anaconda3/envs/echoflow/lib/python3.11/site-packages/distributed/system_monitor.py\", line 156, in update\n",
       "    net_ioc = psutil.net_io_counters()\n",
       "              ^^^^^^^^^^^^^^^^^^^^^^^^\n",
       "  File \"/Users/soham/anaconda3/envs/echoflow/lib/python3.11/site-packages/psutil/__init__.py\", line 2119, in net_io_counters\n",
       "    rawdict = _psplatform.net_io_counters()\n",
       "              ^^^^^^^^^^^^^^^^^^^^^^^^^^^^^\n",
       "OSError: [Errno 12] Cannot allocate memory\n",
       "</pre>\n"
      ],
      "text/plain": [
       "13:54:13.192 | \u001b[38;5;160mERROR\u001b[0m   | tornado.application - Exception in callback <bound method SystemMonitor.update of <SystemMonitor: cpu: 2 memory: 21 MB fds: 179>>\n",
       "Traceback (most recent call last):\n",
       "  File \"/Users/soham/anaconda3/envs/echoflow/lib/python3.11/site-packages/tornado/ioloop.py\", line 921, in _run\n",
       "    val = self.callback()\n",
       "          ^^^^^^^^^^^^^^^\n",
       "  File \"/Users/soham/anaconda3/envs/echoflow/lib/python3.11/site-packages/distributed/system_monitor.py\", line 156, in update\n",
       "    net_ioc = psutil.net_io_counters()\n",
       "              ^^^^^^^^^^^^^^^^^^^^^^^^\n",
       "  File \"/Users/soham/anaconda3/envs/echoflow/lib/python3.11/site-packages/psutil/__init__.py\", line 2119, in net_io_counters\n",
       "    rawdict = _psplatform.net_io_counters()\n",
       "              ^^^^^^^^^^^^^^^^^^^^^^^^^^^^^\n",
       "OSError: [Errno 12] Cannot allocate memory\n"
      ]
     },
     "metadata": {},
     "output_type": "display_data"
    }
   ],
   "source": [
    "dataset_config = os.path.abspath(\"../echoflow/config/datastore.yaml\")\n",
    "pipeline_config = os.path.abspath(\"../echoflow/config/pipeline.yaml\")\n",
    "logfile_config = os.path.abspath(\"../echoflow/config/logging_config.yaml\")\n",
    "data = pipeline_trigger(dataset_config=dataset_config, pipeline_config=pipeline_config, logging_config=logfile_config)"
   ]
  },
  {
   "cell_type": "code",
   "execution_count": null,
   "metadata": {},
   "outputs": [],
   "source": [
    "data"
   ]
  },
  {
   "cell_type": "code",
   "execution_count": null,
   "metadata": {},
   "outputs": [],
   "source": [
    "data[1].data"
   ]
  },
  {
   "cell_type": "code",
   "execution_count": null,
   "metadata": {},
   "outputs": [],
   "source": [
    "nmea = data[0].data[1][\"Platform/NMEA\"]\n",
    "datagram = nmea[\"NMEA_datagram\"]\n",
    "print(datagram)"
   ]
  },
  {
   "cell_type": "code",
   "execution_count": null,
   "metadata": {},
   "outputs": [],
   "source": [
    "nmea = data[0].data[0][\"Platform/NMEA\"]\n",
    "datagram = nmea[\"NMEA_datagram\"]\n",
    "print(datagram)"
   ]
  },
  {
   "cell_type": "code",
   "execution_count": null,
   "metadata": {},
   "outputs": [],
   "source": []
  }
 ],
 "metadata": {
  "kernelspec": {
   "display_name": "echoflow",
   "language": "python",
   "name": "python3"
  },
  "language_info": {
   "codemirror_mode": {
    "name": "ipython",
    "version": 3
   },
   "file_extension": ".py",
   "mimetype": "text/x-python",
   "name": "python",
   "nbconvert_exporter": "python",
   "pygments_lexer": "ipython3",
   "version": "3.11.4"
  },
  "orig_nbformat": 4
 },
 "nbformat": 4,
 "nbformat_minor": 2
}
