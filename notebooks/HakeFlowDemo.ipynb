{
 "cells": [
  {
   "cell_type": "markdown",
   "id": "ff019352-e761-4184-8034-27b906ac2a7e",
   "metadata": {},
   "source": [
    "# Hake Prefect Flow Demo\n",
    "\n",
    "This notebook shows how to use the level 0 `fetch_and_convert` data pipeline that extracts file urls from a url path,\n",
    "then these file urls are read and converted to `zarr` format, following a Sonar Data Standard via `echopype` python library."
   ]
  },
  {
   "cell_type": "code",
   "execution_count": null,
   "id": "a03f7fc3-06f8-400f-8037-003db51ca43e",
   "metadata": {},
   "outputs": [],
   "source": [
    "from echoflow.stages.level0 import fetch_and_convert"
   ]
  },
  {
   "cell_type": "markdown",
   "id": "1c19e30b-80c5-43da-8151-8417985e68bf",
   "metadata": {},
   "source": [
    "With one line, the prefect flow will fetch, read, and convert the specified sonar data.\n",
    "The exported `zarr` files will be split into weekly or transect files."
   ]
  },
  {
   "cell_type": "code",
   "execution_count": null,
   "id": "9ae1730e-c428-4516-bf63-1c79d0853bd5",
   "metadata": {
    "scrolled": true,
    "tags": []
   },
   "outputs": [],
   "source": [
    "results = fetch_and_convert(config=\"./hake.yaml\")"
   ]
  }
 ],
 "metadata": {
  "kernelspec": {
   "display_name": "Python [conda env:ef-dev]",
   "language": "python",
   "name": "conda-env-ef-dev-py"
  },
  "language_info": {
   "codemirror_mode": {
    "name": "ipython",
    "version": 3
   },
   "file_extension": ".py",
   "mimetype": "text/x-python",
   "name": "python",
   "nbconvert_exporter": "python",
   "pygments_lexer": "ipython3",
   "version": "3.8.15"
  }
 },
 "nbformat": 4,
 "nbformat_minor": 5
}
