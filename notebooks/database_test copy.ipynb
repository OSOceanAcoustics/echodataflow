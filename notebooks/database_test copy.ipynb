{
 "cells": [
  {
   "cell_type": "code",
   "execution_count": 1,
   "metadata": {},
   "outputs": [],
   "source": [
    "import sys\n",
    "import os\n",
    "sys.path.append('/Users/Soham/Desktop/EchoWorkSpace/echoflow/')\n",
    "import json\n",
    "import echoflow.stages_v2.utils.databse_utils as db\n",
    "from echoflow.config.models.db_log_model import DB_Log, Log_Data, Process"
   ]
  },
  {
   "cell_type": "code",
   "execution_count": 2,
   "metadata": {},
   "outputs": [
    {
     "name": "stdout",
     "output_type": "stream",
     "text": [
      "<sqlite3.Connection object at 0x1128bd7b0>\n"
     ]
    }
   ],
   "source": [
    "conn = db.get_connection('./echoflow_db/')\n",
    "print(conn)"
   ]
  },
  {
   "cell_type": "code",
   "execution_count": 10,
   "metadata": {},
   "outputs": [
    {
     "name": "stdout",
     "output_type": "stream",
     "text": [
      "<sqlite3.Connection object at 0x10a6fa7a0>\n"
     ]
    }
   ],
   "source": [
    "db.create_log_table(conn)"
   ]
  },
  {
   "cell_type": "code",
   "execution_count": 3,
   "metadata": {},
   "outputs": [
    {
     "name": "stdout",
     "output_type": "stream",
     "text": [
      "[(1, '2023-07-20 17:48:14.839424', '2023-07-20 17:48:18.704082', '{\"Configuration\": {\"name\": \"Configuration\", \"process_stack\": [{\"name\": \"init_flow\", \"start_time\": \"2023-07-20 17:48:10.420600\", \"end_time\": \"2023-07-20 17:48:18.703947\", \"status\": false, \"error\": null}]}}', '1', None), (2, '2023-07-22 16:28:28.474798', '2023-07-22 16:28:31.631818', '{\"Configuration\": {\"name\": \"Configuration\", \"process_stack\": [{\"name\": \"glob_all_files\", \"start_time\": \"2023-07-22 16:28:25.235681\", \"end_time\": \"2023-07-22 16:28:31.631585\", \"status\": true, \"error\": null}]}}', '0', None), (3, '2023-07-22 16:28:28.474798', '2023-07-22 16:28:32.010278', '{\"Configuration\": {\"name\": \"Configuration\", \"process_stack\": [{\"name\": \"glob_all_files\", \"start_time\": \"2023-07-22 16:28:25.235681\", \"end_time\": \"2023-07-22 16:28:31.631585\", \"status\": true, \"error\": null}, {\"name\": \"parse_raw_paths\", \"start_time\": \"2023-07-22 16:28:25.235681\", \"end_time\": \"2023-07-22 16:28:32.010169\", \"status\": true, \"error\": null}]}}', '0', None), (4, '2023-07-22 16:28:28.474798', '2023-07-22 16:28:32.186253', '{\"Configuration\": {\"name\": \"Configuration\", \"process_stack\": [{\"name\": \"glob_all_files\", \"start_time\": \"2023-07-22 16:28:25.235681\", \"end_time\": \"2023-07-22 16:28:31.631585\", \"status\": true, \"error\": null}, {\"name\": \"parse_raw_paths\", \"start_time\": \"2023-07-22 16:28:25.235681\", \"end_time\": \"2023-07-22 16:28:32.010169\", \"status\": true, \"error\": null}, {\"name\": \"club_raw_files\", \"start_time\": \"2023-07-22 16:28:25.235681\", \"end_time\": \"2023-07-22 16:28:32.186187\", \"status\": true, \"error\": null}]}}', '0', None), (5, '2023-07-22 16:28:28.474798', '2023-07-22 16:28:32.221189', '{\"Configuration\": {\"name\": \"Configuration\", \"process_stack\": [{\"name\": \"glob_all_files\", \"start_time\": \"2023-07-22 16:28:25.235681\", \"end_time\": \"2023-07-22 16:28:31.631585\", \"status\": true, \"error\": null}, {\"name\": \"parse_raw_paths\", \"start_time\": \"2023-07-22 16:28:25.235681\", \"end_time\": \"2023-07-22 16:28:32.010169\", \"status\": true, \"error\": null}, {\"name\": \"club_raw_files\", \"start_time\": \"2023-07-22 16:28:25.235681\", \"end_time\": \"2023-07-22 16:28:32.186187\", \"status\": true, \"error\": null}, {\"name\": \"init_flow\", \"start_time\": \"2023-07-22 16:28:25.235681\", \"end_time\": \"2023-07-22 16:28:32.220689\", \"status\": true, \"error\": null}]}}', '0', None), (6, '2023-07-12 09:00:00', '2023-07-22 16:52:18.249180', '{\"exampl.txt\": {\"name\": \"example.txt\", \"process_stack\": [{\"name\": \"Process 1\", \"start_time\": \"09:05:00\", \"end_time\": \"09:10:00\", \"status\": true, \"error\": \"\"}, {\"name\": \"Process 2\", \"start_time\": \"09:15:00\", \"end_time\": \"09:30:00\", \"status\": false, \"error\": \"ValueError Occurred\"}]}}', 'Completed', None), (7, '2023-07-12 09:00:00', '2023-07-22 16:53:34.993540', '{\"exampl.txt\": {\"name\": \"example.txt\", \"process_stack\": [{\"name\": \"Process 1\", \"start_time\": \"09:05:00\", \"end_time\": \"09:10:00\", \"status\": true, \"error\": \"\"}, {\"name\": \"Process 2\", \"start_time\": \"09:15:00\", \"end_time\": \"09:30:00\", \"status\": false, \"error\": \"ValueError Occurred\"}]}}', 'Completed', None), (8, '2023-07-12 09:00:00', '2023-07-22 16:55:38.794985', '{\"exampl.txt\": {\"name\": \"example.txt\", \"process_stack\": [{\"name\": \"Process 1\", \"start_time\": \"09:05:00\", \"end_time\": \"09:10:00\", \"status\": true, \"error\": \"\"}, {\"name\": \"Process 2\", \"start_time\": \"09:15:00\", \"end_time\": \"09:30:00\", \"status\": false, \"error\": \"ValueError Occurred\"}]}}', 'Completed', None)]\n"
     ]
    },
    {
     "data": {
      "text/plain": [
       "[DB_Log(run_id=1, start_time='2023-07-20 17:48:14.839424', end_time='2023-07-20 17:48:18.704082', data={'Configuration': Log_Data(name='Configuration', process_stack=[Process(name='init_flow', start_time='2023-07-20 17:48:10.420600', end_time='2023-07-20 17:48:18.703947', status=False, error=None)])}, status='1', error=None),\n",
       " DB_Log(run_id=2, start_time='2023-07-22 16:28:28.474798', end_time='2023-07-22 16:28:31.631818', data={'Configuration': Log_Data(name='Configuration', process_stack=[Process(name='glob_all_files', start_time='2023-07-22 16:28:25.235681', end_time='2023-07-22 16:28:31.631585', status=True, error=None)])}, status='0', error=None),\n",
       " DB_Log(run_id=3, start_time='2023-07-22 16:28:28.474798', end_time='2023-07-22 16:28:32.010278', data={'Configuration': Log_Data(name='Configuration', process_stack=[Process(name='glob_all_files', start_time='2023-07-22 16:28:25.235681', end_time='2023-07-22 16:28:31.631585', status=True, error=None), Process(name='parse_raw_paths', start_time='2023-07-22 16:28:25.235681', end_time='2023-07-22 16:28:32.010169', status=True, error=None)])}, status='0', error=None),\n",
       " DB_Log(run_id=4, start_time='2023-07-22 16:28:28.474798', end_time='2023-07-22 16:28:32.186253', data={'Configuration': Log_Data(name='Configuration', process_stack=[Process(name='glob_all_files', start_time='2023-07-22 16:28:25.235681', end_time='2023-07-22 16:28:31.631585', status=True, error=None), Process(name='parse_raw_paths', start_time='2023-07-22 16:28:25.235681', end_time='2023-07-22 16:28:32.010169', status=True, error=None), Process(name='club_raw_files', start_time='2023-07-22 16:28:25.235681', end_time='2023-07-22 16:28:32.186187', status=True, error=None)])}, status='0', error=None),\n",
       " DB_Log(run_id=5, start_time='2023-07-22 16:28:28.474798', end_time='2023-07-22 16:28:32.221189', data={'Configuration': Log_Data(name='Configuration', process_stack=[Process(name='glob_all_files', start_time='2023-07-22 16:28:25.235681', end_time='2023-07-22 16:28:31.631585', status=True, error=None), Process(name='parse_raw_paths', start_time='2023-07-22 16:28:25.235681', end_time='2023-07-22 16:28:32.010169', status=True, error=None), Process(name='club_raw_files', start_time='2023-07-22 16:28:25.235681', end_time='2023-07-22 16:28:32.186187', status=True, error=None), Process(name='init_flow', start_time='2023-07-22 16:28:25.235681', end_time='2023-07-22 16:28:32.220689', status=True, error=None)])}, status='0', error=None),\n",
       " DB_Log(run_id=6, start_time='2023-07-12 09:00:00', end_time='2023-07-22 16:52:18.249180', data={'exampl.txt': Log_Data(name='example.txt', process_stack=[Process(name='Process 1', start_time='09:05:00', end_time='09:10:00', status=True, error=''), Process(name='Process 2', start_time='09:15:00', end_time='09:30:00', status=False, error='ValueError Occurred')])}, status='Completed', error=None),\n",
       " DB_Log(run_id=7, start_time='2023-07-12 09:00:00', end_time='2023-07-22 16:53:34.993540', data={'exampl.txt': Log_Data(name='example.txt', process_stack=[Process(name='Process 1', start_time='09:05:00', end_time='09:10:00', status=True, error=''), Process(name='Process 2', start_time='09:15:00', end_time='09:30:00', status=False, error='ValueError Occurred')])}, status='Completed', error=None),\n",
       " DB_Log(run_id=8, start_time='2023-07-12 09:00:00', end_time='2023-07-22 16:55:38.794985', data={'exampl.txt': Log_Data(name='example.txt', process_stack=[Process(name='Process 1', start_time='09:05:00', end_time='09:10:00', status=True, error=''), Process(name='Process 2', start_time='09:15:00', end_time='09:30:00', status=False, error='ValueError Occurred')])}, status='Completed', error=None)]"
      ]
     },
     "execution_count": 3,
     "metadata": {},
     "output_type": "execute_result"
    }
   ],
   "source": [
    "logs = db.parse_all_log_data(conn)\n",
    "logs"
   ]
  },
  {
   "cell_type": "code",
   "execution_count": 3,
   "metadata": {},
   "outputs": [],
   "source": [
    "log_obj = DB_Log(\n",
    "    start_time='2023-07-12 09:00:00',\n",
    "    end_time='2023-07-12 10:00:00',\n",
    "    data={\n",
    "        \"exampl.txt\" : Log_Data(\n",
    "        name='example.txt',\n",
    "        process_stack=[\n",
    "            Process(name='Process 1', start_time='09:05:00', end_time='09:10:00', status=True, error=\"\"),\n",
    "            Process(name='Process 2', start_time='09:15:00', end_time='09:30:00', status=False, error=\"ValueError Occurred\")\n",
    "        ]\n",
    "    )},\n",
    "    status='Completed',\n",
    "    error=\"\"\n",
    ")\n",
    "\n",
    "out = db.insert_log_data(conn,log_obj)"
   ]
  },
  {
   "cell_type": "code",
   "execution_count": 4,
   "metadata": {},
   "outputs": [
    {
     "data": {
      "text/plain": [
       "[]"
      ]
     },
     "execution_count": 4,
     "metadata": {},
     "output_type": "execute_result"
    }
   ],
   "source": [
    "abc = out.fetchall()\n",
    "abc"
   ]
  },
  {
   "cell_type": "code",
   "execution_count": 7,
   "metadata": {},
   "outputs": [
    {
     "data": {
      "text/plain": [
       "9"
      ]
     },
     "execution_count": 7,
     "metadata": {},
     "output_type": "execute_result"
    }
   ],
   "source": [
    "out.lastrowid"
   ]
  },
  {
   "cell_type": "code",
   "execution_count": null,
   "metadata": {},
   "outputs": [],
   "source": []
  }
 ],
 "metadata": {
  "kernelspec": {
   "display_name": "echoflow",
   "language": "python",
   "name": "python3"
  },
  "language_info": {
   "codemirror_mode": {
    "name": "ipython",
    "version": 3
   },
   "file_extension": ".py",
   "mimetype": "text/x-python",
   "name": "python",
   "nbconvert_exporter": "python",
   "pygments_lexer": "ipython3",
   "version": "3.11.4"
  },
  "orig_nbformat": 4
 },
 "nbformat": 4,
 "nbformat_minor": 2
}
