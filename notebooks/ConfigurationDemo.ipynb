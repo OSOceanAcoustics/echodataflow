{
 "cells": [
  {
   "cell_type": "markdown",
   "metadata": {},
   "source": [
    "## Setup Notebook\n",
    "#### To create a new profile in prefect please use the prefect docs available at <link>. After creating a profile make sure you are using the appropriate profile before running this pipeline."
   ]
  },
  {
   "cell_type": "code",
   "execution_count": 1,
   "metadata": {},
   "outputs": [],
   "source": [
    "import sys\n",
    "sys.path.append('/home/ubuntu/echoflow/echoflow')\n",
    "import os\n",
    "key = os.environ[\"KEY\"]\n",
    "secret = os.environ[\"SECRET\"]\n",
    "from echoflow import echoflow_config_AWS, echoflow_create_prefect_profile, load_profile, echoflow_config_AZ_cosmos\n",
    "from prefect_aws import AwsCredentials\n"
   ]
  },
  {
   "cell_type": "code",
   "execution_count": 2,
   "metadata": {},
   "outputs": [],
   "source": [
    "profile = echoflow_create_prefect_profile(name=\"echoflow-local\", set_active=False)\n",
    "profile = load_profile(name=\"echoflow-local\")"
   ]
  },
  {
   "cell_type": "code",
   "execution_count": 3,
   "metadata": {},
   "outputs": [],
   "source": [
    "load_profile(name=\"default\")"
   ]
  },
  {
   "cell_type": "code",
   "execution_count": 4,
   "metadata": {},
   "outputs": [],
   "source": [
    "# AWS Example\n",
    "options={}\n",
    "options[\"storage_type\"] = \"destination\"\n",
    "\n",
    "func = echoflow_config_AWS(aws_key=key, aws_secret=secret, options=options, active=False)\n",
    "aws = await AwsCredentials.load(\"echoflow-aws-credentials\")\n",
    "s3c = aws.get_s3_client()"
   ]
  },
  {
   "cell_type": "code",
   "execution_count": 5,
   "metadata": {},
   "outputs": [
    {
     "data": {
      "text/plain": [
       "<botocore.client.S3 at 0x7fb6a06370a0>"
      ]
     },
     "execution_count": 5,
     "metadata": {},
     "output_type": "execute_result"
    }
   ],
   "source": [
    "s3c"
   ]
  },
  {
   "cell_type": "code",
   "execution_count": null,
   "metadata": {},
   "outputs": [],
   "source": [
    "# Azure Cosmos Example\n",
    "from prefect_azure import AzureCosmosDbCredentials\n",
    "\n",
    "\n",
    "cs = \"\"\n",
    "func = echoflow_config_AZ_cosmos(connection_string=cs, options=options, active=False)\n",
    "az = await AzureCosmosDbCredentials.load(\"echoflow-az-credentials\")\n",
    "azc = az.get_client()"
   ]
  }
 ],
 "metadata": {
  "kernelspec": {
   "display_name": "Python 3 (ipykernel)",
   "language": "python",
   "name": "python3"
  },
  "language_info": {
   "codemirror_mode": {
    "name": "ipython",
    "version": 3
   },
   "file_extension": ".py",
   "mimetype": "text/x-python",
   "name": "python",
   "nbconvert_exporter": "python",
   "pygments_lexer": "ipython3",
   "version": "3.10.12"
  }
 },
 "nbformat": 4,
 "nbformat_minor": 4
}
