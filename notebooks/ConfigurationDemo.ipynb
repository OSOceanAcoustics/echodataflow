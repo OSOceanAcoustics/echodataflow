{
 "cells": [
  {
   "cell_type": "markdown",
   "metadata": {},
   "source": [
    "### Echodataflow Setup Notebook\n",
    "##### To create a new profile in prefect execute the `prefect cloud login` command or refer the prefect docs available at https://docs.prefect.io/2.11.4/cloud/cloud-quickstart/ for latest setup instructions. If you wish to use local prefect create a local profile. `echodataflow_create_prefect_profile()` can be used to create a new profile. After creating a profile make sure you are using the appropriate profile before running this pipeline. `load_profile()` can be used to switch the profile. \n",
    "\n",
    "#### Note :\n",
    "- Use pip install -e . to install all dependencies\n",
    "- pip install prefect is not required since the above command will do it\n",
    "- Below code uses KEY and SECRET for AWS stored as environment variables for example"
   ]
  },
  {
   "cell_type": "code",
   "execution_count": 1,
   "metadata": {},
   "outputs": [],
   "source": [
    "import os\n",
    "key = os.environ[\"KEY\"]\n",
    "secret = os.environ[\"SECRET\"]\n",
    "from echodataflow import echodataflow_config_AWS, echodataflow_create_prefect_profile, load_profile, echodataflow_config_AZ_cosmos"
   ]
  },
  {
   "cell_type": "code",
   "execution_count": 2,
   "metadata": {},
   "outputs": [],
   "source": [
    "profile = echodataflow_create_prefect_profile(name=\"echodataflow-local\", set_active=False)\n",
    "profile = load_profile(name=\"echodataflow-local\")"
   ]
  },
  {
   "cell_type": "code",
   "execution_count": 3,
   "metadata": {},
   "outputs": [],
   "source": [
    "load_profile(name=\"default\")"
   ]
  },
  {
   "cell_type": "code",
   "execution_count": 4,
   "metadata": {},
   "outputs": [],
   "source": [
    "# AWS Example\n",
    "from prefect_aws import AwsCredentials\n",
    "\n",
    "options={}\n",
    "options[\"storage_type\"] = \"destination\"\n",
    "\n",
    "func = echodataflow_config_AWS(aws_key=key, aws_secret=secret, options=options, active=False)\n",
    "aws = await AwsCredentials.load(\"echodataflow-aws-credentials\")\n",
    "s3c = aws.get_s3_client()"
   ]
  },
  {
   "cell_type": "code",
   "execution_count": null,
   "metadata": {},
   "outputs": [],
   "source": [
    "# Azure Cosmos Example\n",
    "from prefect_azure import AzureCosmosDbCredentials\n",
    "\n",
    "\n",
    "cs = \"\"\n",
    "func = echodataflow_config_AZ_cosmos(connection_string=cs, options=options, active=False)\n",
    "az = await AzureCosmosDbCredentials.load(\"echodataflow-az-credentials\")\n",
    "azc = az.get_client()"
   ]
  }
 ],
 "metadata": {
  "kernelspec": {
   "display_name": "Python 3 (ipykernel)",
   "language": "python",
   "name": "python3"
  },
  "language_info": {
   "codemirror_mode": {
    "name": "ipython",
    "version": 3
   },
   "file_extension": ".py",
   "mimetype": "text/x-python",
   "name": "python",
   "nbconvert_exporter": "python",
   "pygments_lexer": "ipython3",
   "version": "3.10.12"
  }
 },
 "nbformat": 4,
 "nbformat_minor": 4
}
