{
 "cells": [
  {
   "cell_type": "code",
   "execution_count": 3,
   "metadata": {},
   "outputs": [
    {
     "ename": "TypeError",
     "evalue": "metaclass conflict: the metaclass of a derived class must be a (non-strict) subclass of the metaclasses of all its bases",
     "output_type": "error",
     "traceback": [
      "\u001b[0;31m---------------------------------------------------------------------------\u001b[0m",
      "\u001b[0;31mTypeError\u001b[0m                                 Traceback (most recent call last)",
      "Cell \u001b[0;32mIn[3], line 11\u001b[0m\n\u001b[1;32m      8\u001b[0m             \u001b[39mcls\u001b[39m\u001b[39m.\u001b[39m_instances[\u001b[39mcls\u001b[39m] \u001b[39m=\u001b[39m \u001b[39msuper\u001b[39m(SingletonMeta, \u001b[39mcls\u001b[39m)\u001b[39m.\u001b[39m\u001b[39m__call__\u001b[39m(\u001b[39m*\u001b[39margs, \u001b[39m*\u001b[39m\u001b[39m*\u001b[39mkwargs)\n\u001b[1;32m      9\u001b[0m         \u001b[39mreturn\u001b[39;00m \u001b[39mcls\u001b[39m\u001b[39m.\u001b[39m_instances[\u001b[39mcls\u001b[39m]\n\u001b[0;32m---> 11\u001b[0m \u001b[39mclass\u001b[39;00m \u001b[39mSingletonClassA\u001b[39;00m(pydantic\u001b[39m.\u001b[39mBaseModel, metaclass\u001b[39m=\u001b[39mSingletonMeta):\n\u001b[1;32m     12\u001b[0m     attr : \u001b[39mstr\u001b[39m\n\u001b[1;32m     13\u001b[0m     \u001b[39mdef\u001b[39;00m \u001b[39msome_method\u001b[39m(\u001b[39mself\u001b[39m):\n",
      "\u001b[0;31mTypeError\u001b[0m: metaclass conflict: the metaclass of a derived class must be a (non-strict) subclass of the metaclasses of all its bases"
     ]
    }
   ],
   "source": [
    "import pydantic\n",
    "\n",
    "class SingletonMeta(type):\n",
    "    _instances = {}\n",
    "\n",
    "    def __call__(cls, *args, **kwargs):\n",
    "        if cls not in cls._instances:\n",
    "            cls._instances[cls] = super(SingletonMeta, cls).__call__(*args, **kwargs)\n",
    "        return cls._instances[cls]\n",
    "\n",
    "class SingletonClassA(pydantic.BaseModel, metaclass=SingletonMeta):\n",
    "    attr : str\n",
    "    def some_method(self):\n",
    "        print(\"Doing something in Class A...\")\n",
    "\n",
    "class SingletonClassB(pydantic.BaseModel,metaclass=SingletonMeta):\n",
    "    attrb: str\n",
    "    def some_method(self):\n",
    "        print(\"Doing something in Class B...\")\n",
    "\n",
    "# Example usage\n",
    "instance1 = SingletonClassA(attr=\"a\")\n",
    "instance2 = SingletonClassA(attr=\"a\")\n",
    "\n",
    "instance3 = SingletonClassB(attrb=\"b\")\n",
    "instance4 = SingletonClassB(attrb=\"b\")\n",
    "\n",
    "print(instance1 is instance2)  # Output: True\n",
    "print(instance3 is instance4)  # Output: True\n"
   ]
  },
  {
   "cell_type": "code",
   "execution_count": null,
   "metadata": {},
   "outputs": [],
   "source": []
  }
 ],
 "metadata": {
  "kernelspec": {
   "display_name": "echodataflow",
   "language": "python",
   "name": "python3"
  },
  "language_info": {
   "codemirror_mode": {
    "name": "ipython",
    "version": 3
   },
   "file_extension": ".py",
   "mimetype": "text/x-python",
   "name": "python",
   "nbconvert_exporter": "python",
   "pygments_lexer": "ipython3",
   "version": "3.11.4"
  },
  "orig_nbformat": 4
 },
 "nbformat": 4,
 "nbformat_minor": 2
}
